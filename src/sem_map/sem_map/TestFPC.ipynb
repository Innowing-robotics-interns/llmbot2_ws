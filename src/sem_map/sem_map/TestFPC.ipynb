{
 "cells": [
  {
   "cell_type": "code",
   "execution_count": 1,
   "metadata": {},
   "outputs": [],
   "source": [
    "from map_utils import *\n",
    "# from LoadLSeg import *"
   ]
  },
  {
   "cell_type": "code",
   "execution_count": 2,
   "metadata": {},
   "outputs": [],
   "source": [
    "\n",
    "sfpc = ServerFeaturePointCloudMap()"
   ]
  },
  {
   "cell_type": "code",
   "execution_count": 3,
   "metadata": {},
   "outputs": [
    {
     "name": "stdout",
     "output_type": "stream",
     "text": [
      "Sending handshake message:info\n",
      "Sending handshake message:trans\n",
      "Sending handshake message:color\n",
      "Sending handshake message:depth\n",
      "Sending handshake message:info\n",
      "Sending handshake message:trans\n",
      "Sending handshake message:color\n",
      "Sending handshake message:depth\n",
      "Sending handshake message:info\n",
      "Sending handshake message:trans\n",
      "Sending handshake message:color\n",
      "Sending handshake message:depth\n",
      "Sending handshake message:info\n",
      "Sending handshake message:trans\n",
      "Sending handshake message:color\n",
      "Sending handshake message:depth\n",
      "Sending handshake message:info\n",
      "Sending handshake message:trans\n",
      "Sending handshake message:color\n",
      "Sending handshake message:depth\n",
      "Sending handshake message:info\n",
      "Sending handshake message:trans\n",
      "Sending handshake message:color\n",
      "Sending handshake message:depth\n",
      "Sending handshake message:info\n",
      "Sending handshake message:trans\n",
      "Sending handshake message:color\n",
      "Sending handshake message:depth\n",
      "Sending handshake message:info\n",
      "Sending handshake message:trans\n",
      "Sending handshake message:color\n",
      "Sending handshake message:depth\n",
      "Sending handshake message:info\n",
      "Sending handshake message:trans\n",
      "Sending handshake message:color\n",
      "Sending handshake message:depth\n",
      "Sending handshake message:info\n",
      "Sending handshake message:trans\n",
      "Sending handshake message:color\n",
      "Sending handshake message:depth\n",
      "Sending handshake message:info\n",
      "Sending handshake message:trans\n",
      "Sending handshake message:color\n",
      "Sending handshake message:depth\n",
      "Sending handshake message:info\n",
      "Sending handshake message:trans\n",
      "Sending handshake message:color\n",
      "Sending handshake message:depth\n",
      "Sending handshake message:info\n",
      "Sending handshake message:trans\n",
      "Sending handshake message:color\n",
      "Sending handshake message:depth\n",
      "Sending handshake message:info\n",
      "Sending handshake message:trans\n",
      "Sending handshake message:color\n",
      "Sending handshake message:depth\n",
      "Sending handshake message:info\n",
      "Sending handshake message:trans\n",
      "Sending handshake message:color\n",
      "Sending handshake message:depth\n",
      "Sending handshake message:info\n",
      "Sending handshake message:trans\n",
      "Sending handshake message:color\n",
      "Sending handshake message:depth\n",
      "Sending handshake message:info\n",
      "Sending handshake message:trans\n",
      "Sending handshake message:color\n",
      "Sending handshake message:depth\n",
      "Sending handshake message:info\n",
      "Sending handshake message:trans\n",
      "Sending handshake message:color\n",
      "Sending handshake message:depth\n",
      "Sending handshake message:info\n",
      "Sending handshake message:trans\n",
      "Sending handshake message:color\n",
      "Sending handshake message:depth\n",
      "Sending handshake message:info\n",
      "Sending handshake message:trans\n",
      "Sending handshake message:color\n",
      "Sending handshake message:depth\n",
      "Sending handshake message:info\n",
      "Sending handshake message:trans\n",
      "Sending handshake message:color\n",
      "Sending handshake message:depth\n",
      "Sending handshake message:info\n",
      "Sending handshake message:trans\n",
      "Sending handshake message:color\n",
      "Sending handshake message:depth\n",
      "Sending handshake message:info\n",
      "Sending handshake message:trans\n",
      "Sending handshake message:color\n",
      "Sending handshake message:depth\n",
      "Sending handshake message:info\n",
      "Sending handshake message:trans\n",
      "Sending handshake message:color\n",
      "Sending handshake message:depth\n",
      "Sending handshake message:info\n",
      "Sending handshake message:trans\n",
      "Sending handshake message:color\n",
      "Sending handshake message:depth\n",
      "Sending handshake message:info\n",
      "Sending handshake message:trans\n"
     ]
    },
    {
     "ename": "ConnectionResetError",
     "evalue": "[Errno 104] Connection reset by peer",
     "output_type": "error",
     "traceback": [
      "\u001b[0;31m---------------------------------------------------------------------------\u001b[0m",
      "\u001b[0;31mConnectionResetError\u001b[0m                      Traceback (most recent call last)",
      "Cell \u001b[0;32mIn[3], line 3\u001b[0m\n\u001b[1;32m      1\u001b[0m sfpc\u001b[38;5;241m.\u001b[39msocket_receiver\u001b[38;5;241m.\u001b[39msocket_connect(port_num\u001b[38;5;241m=\u001b[39m\u001b[38;5;241m5555\u001b[39m)\n\u001b[1;32m      2\u001b[0m \u001b[38;5;28;01mwhile\u001b[39;00m \u001b[38;5;28;01mTrue\u001b[39;00m:\n\u001b[0;32m----> 3\u001b[0m     \u001b[43msfpc\u001b[49m\u001b[38;5;241;43m.\u001b[39;49m\u001b[43mhandshake_receive_data\u001b[49m\u001b[43m(\u001b[49m\u001b[43m)\u001b[49m\n",
      "File \u001b[0;32m~/llmbot2_ws/src/sem_map/sem_map/map_utils.py:270\u001b[0m, in \u001b[0;36mServerFeaturePointCloudMap.handshake_receive_data\u001b[0;34m(self)\u001b[0m\n\u001b[1;32m    268\u001b[0m \u001b[38;5;28mself\u001b[39m\u001b[38;5;241m.\u001b[39mreceive_info()\n\u001b[1;32m    269\u001b[0m \u001b[38;5;28mself\u001b[39m\u001b[38;5;241m.\u001b[39msocket_receiver\u001b[38;5;241m.\u001b[39msend_handshake(\u001b[38;5;124m\"\u001b[39m\u001b[38;5;124mtrans\u001b[39m\u001b[38;5;124m\"\u001b[39m)\n\u001b[0;32m--> 270\u001b[0m \u001b[38;5;28;43mself\u001b[39;49m\u001b[38;5;241;43m.\u001b[39;49m\u001b[43mreceive_trans\u001b[49m\u001b[43m(\u001b[49m\u001b[43m)\u001b[49m\n\u001b[1;32m    271\u001b[0m \u001b[38;5;28mself\u001b[39m\u001b[38;5;241m.\u001b[39msocket_receiver\u001b[38;5;241m.\u001b[39msend_handshake(\u001b[38;5;124m\"\u001b[39m\u001b[38;5;124mcolor\u001b[39m\u001b[38;5;124m\"\u001b[39m)\n\u001b[1;32m    272\u001b[0m \u001b[38;5;28mself\u001b[39m\u001b[38;5;241m.\u001b[39mreceive_color()\n",
      "File \u001b[0;32m~/llmbot2_ws/src/sem_map/sem_map/map_utils.py:244\u001b[0m, in \u001b[0;36mServerFeaturePointCloudMap.receive_trans\u001b[0;34m(self)\u001b[0m\n\u001b[1;32m    242\u001b[0m \u001b[38;5;28;01mdef\u001b[39;00m \u001b[38;5;21mreceive_trans\u001b[39m(\u001b[38;5;28mself\u001b[39m):\n\u001b[1;32m    243\u001b[0m     \u001b[38;5;66;03m# first 3 floats are translation, next 4 floats are rotation\u001b[39;00m\n\u001b[0;32m--> 244\u001b[0m     \u001b[38;5;28mself\u001b[39m\u001b[38;5;241m.\u001b[39mtrans \u001b[38;5;241m=\u001b[39m \u001b[38;5;28;43mself\u001b[39;49m\u001b[38;5;241;43m.\u001b[39;49m\u001b[43msocket_receiver\u001b[49m\u001b[38;5;241;43m.\u001b[39;49m\u001b[43mreceive_data\u001b[49m\u001b[43m(\u001b[49m\u001b[43mvariable_length\u001b[49m\u001b[38;5;241;43m=\u001b[39;49m\u001b[38;5;28;43;01mFalse\u001b[39;49;00m\u001b[43m,\u001b[49m\u001b[43m \u001b[49m\u001b[43mformats\u001b[49m\u001b[38;5;241;43m=\u001b[39;49m\u001b[38;5;124;43m\"\u001b[39;49m\u001b[38;5;124;43m<3f4f\u001b[39;49m\u001b[38;5;124;43m\"\u001b[39;49m\u001b[43m)\u001b[49m\n",
      "File \u001b[0;32m~/llmbot2_ws/src/sem_map/sem_map/map_utils.py:92\u001b[0m, in \u001b[0;36mSocketReceiver.receive_data\u001b[0;34m(self, variable_length, formats)\u001b[0m\n\u001b[1;32m     90\u001b[0m     \u001b[38;5;28mprint\u001b[39m(\u001b[38;5;124m\"\u001b[39m\u001b[38;5;124mNo format provided\u001b[39m\u001b[38;5;124m\"\u001b[39m)\n\u001b[1;32m     91\u001b[0m     \u001b[38;5;28;01mreturn\u001b[39;00m \u001b[38;5;28;01mNone\u001b[39;00m\n\u001b[0;32m---> 92\u001b[0m data_valid \u001b[38;5;241m=\u001b[39m struct\u001b[38;5;241m.\u001b[39munpack(\u001b[38;5;124m\"\u001b[39m\u001b[38;5;124m<L\u001b[39m\u001b[38;5;124m\"\u001b[39m, \u001b[38;5;28;43mself\u001b[39;49m\u001b[38;5;241;43m.\u001b[39;49m\u001b[43mconn\u001b[49m\u001b[38;5;241;43m.\u001b[39;49m\u001b[43mrecv\u001b[49m\u001b[43m(\u001b[49m\u001b[38;5;241;43m4\u001b[39;49m\u001b[43m)\u001b[49m)[\u001b[38;5;241m0\u001b[39m]\n\u001b[1;32m     93\u001b[0m \u001b[38;5;28;01mif\u001b[39;00m data_valid \u001b[38;5;241m==\u001b[39m \u001b[38;5;241m1\u001b[39m:\n\u001b[1;32m     94\u001b[0m     data \u001b[38;5;241m=\u001b[39m \u001b[38;5;28mself\u001b[39m\u001b[38;5;241m.\u001b[39mconn\u001b[38;5;241m.\u001b[39mrecv(struct\u001b[38;5;241m.\u001b[39mcalcsize(formats))\n",
      "\u001b[0;31mConnectionResetError\u001b[0m: [Errno 104] Connection reset by peer"
     ]
    }
   ],
   "source": [
    "sfpc.socket_receiver.socket_connect(port_num=5555)\n",
    "while True:\n",
    "    sfpc.handshake_receive_data()"
   ]
  },
  {
   "cell_type": "code",
   "execution_count": null,
   "metadata": {},
   "outputs": [],
   "source": []
  }
 ],
 "metadata": {
  "kernelspec": {
   "display_name": "Python 3",
   "language": "python",
   "name": "python3"
  },
  "language_info": {
   "codemirror_mode": {
    "name": "ipython",
    "version": 3
   },
   "file_extension": ".py",
   "mimetype": "text/x-python",
   "name": "python",
   "nbconvert_exporter": "python",
   "pygments_lexer": "ipython3",
   "version": "3.10.12"
  }
 },
 "nbformat": 4,
 "nbformat_minor": 2
}
