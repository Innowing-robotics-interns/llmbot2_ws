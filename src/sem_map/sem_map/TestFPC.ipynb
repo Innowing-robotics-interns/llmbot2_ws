{
 "cells": [
  {
   "cell_type": "code",
   "execution_count": 1,
   "metadata": {},
   "outputs": [
    {
     "name": "stderr",
     "output_type": "stream",
     "text": [
      "/home/fyp/.local/lib/python3.10/site-packages/tqdm/auto.py:21: TqdmWarning: IProgress not found. Please update jupyter and ipywidgets. See https://ipywidgets.readthedocs.io/en/stable/user_install.html\n",
      "  from .autonotebook import tqdm as notebook_tqdm\n"
     ]
    },
    {
     "name": "stdout",
     "output_type": "stream",
     "text": [
      "Namespace(model='encnet', backbone='clip_vitl16_384', dataset='fss', workers=16, base_size=520, crop_size=480, train_split='train', aux=False, se_loss=False, se_weight=0.2, batch_size=16, test_batch_size=16, no_cuda=False, seed=1, weights='/home/fyp/lang-seg/checkpoints/demo_e200.ckpt', eval=False, acc_bn=False, test_val=False, no_val=False, module='clipseg_DPT_test_v2', scale_inv=False, widehead=True, widehead_hr=False, ignore_index=255, jobname='default', strict=True, use_pretrained='True', arch_option=0, nshot=0, fold=0, nworker=0, bsz=1, benchmark='pascal', datapath='data/Datasets_HSN', activation='relu', cuda=True)\n",
      "Loading model...\n"
     ]
    },
    {
     "name": "stderr",
     "output_type": "stream",
     "text": [
      "/home/fyp/.local/lib/python3.10/site-packages/pytorch_lightning/utilities/migration/migration.py:208: You have multiple `ModelCheckpoint` callback states in this checkpoint, but we found state keys that would end up colliding with each other after an upgrade, which means we can't differentiate which of your checkpoint callbacks needs which states. At least one of your `ModelCheckpoint` callbacks will not be able to reload the state.\n",
      "Lightning automatically upgraded your loaded checkpoint from v1.3.5 to v2.4.0. To apply the upgrade to your files permanently, run `python -m pytorch_lightning.utilities.upgrade_checkpoint checkpoints/demo_e200.ckpt`\n",
      "/home/fyp/lang-seg/modules/lsegmentation_module_zs.py:50: FutureWarning: `torch.cuda.amp.GradScaler(args...)` is deprecated. Please use `torch.amp.GradScaler('cuda', args...)` instead.\n",
      "  self.scaler = amp.GradScaler(enabled=self.enabled)\n",
      "\n",
      ":=========== Few-shot Seg. with HSNet ===========\n",
      "|             datapath: data/Datasets_HSN       \n",
      "|              logpath: /home/fyp/lang-seg/fewshot/logpath_4T/\n",
      "|            benchmark: fss                     \n",
      "|                  bsz: 1                       \n",
      "|                 fold: 0                       \n",
      "|                nshot: 0                       \n",
      "|        finetune_mode: False                   \n",
      ":================================================\n",
      "\n"
     ]
    },
    {
     "name": "stdout",
     "output_type": "stream",
     "text": [
      "use norm: [0.5, 0.5, 0.5], [0.5, 0.5, 0.5]\n",
      "['ac_wall', 'acorn', 'adhensive_tape', 'adidas_logo1', 'adidas_logo2', 'afghan_hound', 'african_elephant', 'african_grey', 'agama', 'air_strip', 'aircraft_carrier', 'airedale', 'airship', 'almond', 'ambulance', 'american_staffordshire', 'anemone_fish', 'angora', 'apple', 'armour', 'ashtray', 'assult_rifle', 'aubergine', 'avocado', 'baboon', 'backpack', 'bagel', 'balance_weight', 'bald_eagle', 'ballpoint', 'banana', 'band-aid', 'banded_gecko', 'barometer', 'baseball_bat', 'baseball_player', 'basketball', 'bassoon', 'bathtub', 'battery', 'beacon', 'beaker', 'beam_bridge', 'bear', 'beaver', 'bedlington_terrier', 'bee_house', 'besom', 'birdhouse', 'bison', 'black_grouse', 'black_stork', 'black_swan', 'blossom_card', 'boa_constrictor', 'bolotie', 'bomb', 'border_terrier', 'boston_bull', 'bottle_cap', 'bouzouki', 'box_turtle', 'bra', 'bracelet', 'bradypod', 'brain_coral', 'brambling', 'brasscica', 'brick', 'brick_card', 'brick_tea', 'briefcase', 'brown_bear', 'brush_pen', 'buckingham_palace', 'buckler', 'bullet_train', 'bushtit', 'butterfly', 'cableways', 'cactus_ball', 'cairn', 'camel', 'can_opener', 'candle', 'cannon', 'canoe', 'capuchin', 'car_mirror', 'car_wheel', 'carbonara', 'carousel', 'carp', 'carrot', 'carton', 'cassette', 'cauliflower', 'celery', 'cello', 'chainsaw', 'chalk', 'cheese_burger', 'chess_bishop', 'chest', 'chickadee_bird', 'chicken_wings', 'chicory', 'chihuahua', 'children_slide', 'chinese_date', 'chopsticks', 'christmas_stocking', 'cleaver', 'cn_tower', 'cocacola', 'cocktail_shaker', 'coffin', 'coho', 'collar', 'comb', 'computer_mouse', 'conch', 'convertible', 'cornet', 'cosmetic_brush', 'cottontail', 'coucal', 'cougar', 'cowboy_hat', 'coyote', 'crane', 'crash_helmet', 'cream', 'cristo_redentor', 'croissant', 'cucumber', 'cumquat', 'dandie_dinmont', 'dart', 'dhole', 'diamond', 'diaper', 'digital_watch', 'dingo', 'dinosaur', 'donkey', 'dough', 'dragonfly', 'drake', 'drumstick', 'dugong', 'dumbbell', 'dutch_oven', 'earplug', 'eft_newt', 'egg_tart', 'eggnog', 'egret', 'egyptian_cat', 'electric_fan', 'electronic_toothbrush', 'eletrical_switch', 'envelope', 'esport_chair', 'espresso', 'excavator', 'face_powder', 'feeder', 'ferret', 'fig', 'file_cabinet', 'fire_engine', 'flatworm', 'flowerpot', 'flute', 'flying_disc', 'fork', 'forklift', 'fountain', 'frog', 'fur_coat', 'garbage_can', 'garbage_truck', 'garfish', 'garlic', 'gas_pump', 'gazelle', 'gecko', 'german_pointer', 'giant_panda', 'gliding_lizard', 'globe', 'golden_retriever', 'goldfish', 'golf_ball', 'golfcart', 'goose', 'gorilla', 'gourd', 'grasshopper', 'great_wall', 'green_mamba', 'grey_fox', 'grey_whale', 'guacamole', 'guinea_pig', 'gypsy_moth', 'hamster', 'handshower', 'hard_disk', 'hare', 'hartebeest', 'harvester', 'hawthorn', 'head_cabbage', 'hen_of_the_woods', 'hock', 'hook', 'hornbill', 'hornet', 'housefinch', 'howler_monkey', 'hummingbird', 'hyena', 'ibex', 'igloo', 'indian_cobra', 'indian_elephant', 'jacamar', 'jackfruit', 'jacko_lantern', 'jellyfish', 'jinrikisha', 'jordan_logo', 'joystick', 'kangaroo', 'kappa_logo', 'keyboard', 'killer_whale', 'kinguin', 'kitchen_knife', 'kite', 'koala', 'kremlin', 'ladder', 'ladle', 'lady_slipper', 'ladybug', 'ladyfinger', 'lampshade', 'langur', 'lark', 'lawn_mower', 'leatherback_turtle', 'leeks', 'leopard', 'lesser_panda', 'lhasa_apso', 'lifeboat', 'light_tube', 'lionfish', 'litchi', 'llama', 'loafer', 'lobster', 'lorikeet', 'lynx', 'macaque', 'mailbox', 'manx', 'maotai_bottle', 'maraca', 'mario', 'marmot', 'marshmallow', 'mcdonald_uncle', 'measuring_cup', 'medical_kit', 'meerkat', 'melon_seed', 'memory_stick', 'microphone', 'microwave', 'military_vest', 'miniskirt', 'mink', 'modem', 'mongoose', 'monitor', 'mooli', 'mooncake', 'motarboard', 'motor_scooter', 'mount_fuji', 'mountain_tent', 'mouse', 'mouthpiece', 'mud_turtle', 'mule', 'muscle_car', 'mushroom', 'nail_scissor', 'neck_brace', 'necklace', 'nematode', 'night_snake', 'obelisk', 'ocicat', 'oil_filter', 'okra', 'one-armed_bandit', 'orange', 'ostrich', 'otter', 'owl', 'paddle', 'paint_brush', 'panpipe', 'panther', 'papaya', 'paper_crane', 'paper_towel', 'parallel_bars', 'park_bench', 'patas', 'peacock', 'pen', 'pencil_box', 'pencil_sharpener2', 'pepitas', 'perfume', 'persian_cat', 'persimmon', 'petri_dish', 'pickup', 'pill_bottle', 'pineapple', 'pingpong_racket', 'pinwheel', 'pistachio', 'plate', 'poker', 'pokermon_ball', 'polar_bear', 'polecat', 'police_car', 'pomelo', 'pool_table', 'potato', 'potted_plant', 'prairie_chicken', 'prayer_rug', 'printer', 'proboscis', 'psp', 'ptarmigan', 'pubg_lvl3helmet', 'pufferfish', 'puma_logo', 'punching_bag', 'quad_drone', 'quill_pen', 'raccoon', 'radiator', 'radio', 'radio_telescope', 'raft', 'rain_barrel', 'recreational_vehicle', 'red_bayberry', 'red_breasted_merganser', 'red_wolf', 'redheart', 'remote_control', 'rhinoceros', 'ringlet_butterfly', 'rock_beauty', 'rocket', 'roller_coaster', 'roller_skate', 'rosehip', 'ruddy_turnstone', 'ruffed_grouse', 'running_shoe', 'saluki', 'sandwich', 'sandwich_cookies', 'sarong', 'scabbard', 'scorpion', 'screwdriver', 'scroll_brush', 'seal', 'seatbelt', 'shakuhachi', 'shift_gear', 'shih-tzu', 'shopping_cart', 'shotgun', 'shower_cap', 'sidewinder', 'single_log', 'skua', 'skull', 'skunk', 'sleeping_bag', 'sloth_bear', 'snail', 'snake', 'snowball', 'snowmobile', 'soccer_ball', 'solar_dish', 'sombrero', 'space_heater', 'space_shuttle', 'spade', 'spark_plug', 'sparrow', 'spatula', 'speaker', 'sponge', 'spoon', 'spoonbill', 'sports_car', 'spotted_salamander', 'spring_scroll', 'squirrel', 'staffordshire', 'stapler', 'starfish', 'statue_liberty', 'steak', 'steam_locomotive', 'stinkhorn', 'stole', 'stool', 'stop_sign', 'stove', 'strainer', 'streetcar', 'studio_couch', 'stupa', 'submarine', 'sulphur_crested', 'sundial', 'sunglasses', 'sunscreen', 'surfboard', 'swab', 'swimming_glasses', 'swimming_trunk', 'table_lamp', 'tank', 'taxi', 'teapot', 'tebby_cat', 'teddy', 'telescope', 'tennis_racket', 'terrapin_turtle', 'thatch', 'thimble', 'throne', 'tiger', 'tile_roof', 'titi_monkey', 'tobacco_pipe', 'tofu', 'toilet_plunger', 'toilet_tissue', 'tokyo_tower', 'tomb', 'toothbrush', 'toothpaste', 'torii', 'tractor', 'traffic_light', 'trailer_truck', 'trench_coat', 'tresher', 'triceratops', 'trilobite', 'trimaran', 'trolleybus', 'turtle', 'usb', 'vending_machine', 'vestment', 'victor_icon', 'vine_snake', 'violin', 'wafer', 'waffle', 'waffle_iron', 'wall_clock', 'wallaby', 'wallet', 'walnut', 'wardrobe', 'warthog', 'wash_basin', 'washer', 'water_bike', 'water_polo', 'water_snake', 'watermelon', 'whale', 'white_shark', 'wild_boar', 'window_shade', 'witch_hat', 'wok', 'wombat', 'wreck', 'wrench', 'yorkshire_terrier', 'yurt', 'zebra', 'zucchini', 'ab_wheel', 'abacus', 'ac_ground', 'african_crocodile', 'airliner', 'albatross', 'apron', 'arabian_camel', 'arctic_fox', 'armadillo', 'artichoke', 'baby', 'badger', 'balance_beam', 'balloon', 'banjo', 'barbell', 'baseball', 'basset', 'beagle', 'bee', 'bee_eater', 'beer_bottle', 'beer_glass', 'bell', 'bighorn_sheep', 'bittern', 'blenheim_spaniel', 'bluetick', 'bolete', 'bowtie', 'briard', 'broccoli', 'bulbul_bird', 'cabbage', 'cactus', 'calculator', 'camomile', 'carambola', 'cardoon', 'ceiling_fan', 'cheese', 'cheetah', 'cherry', 'chimpanzee', 'cigar', 'cigarette', 'coconut', 'coffeepot', 'colubus', 'common_newt', 'consomme', 'conversion_plug', 'conveyor', 'corn', 'cornmeal', 'cpu', 'crab', 'cradle', 'crayon', 'crepe', 'cricketball', 'crocodile', 'croquet_ball', 'cup', 'cushion', 'daisy', 'digital_clock', 'dishwasher', 'dowitcher', 'drum', 'eel', 'english_setter', 'equestrian_helmet', 'espresso_maker', 'fire_balloon', 'fire_hydrant', 'fire_screen', 'flat-coated_retriever', 'folding_chair', 'fox_squirrel', 'french_ball', 'frying_pan', 'gas_tank', 'giant_schnauzer', 'gibbon', 'ginger', 'gyromitra', 'hair_drier', 'hami_melon', 'hammer', 'hammerhead_shark', 'handcuff', 'handkerchief', 'har_gow', 'harp', 'hatchet', 'hippo', 'hotdog', 'ice_lolly', 'iceberg', 'icecream', 'impala', 'ipod', 'ironing_board', 'jay_bird', 'kazoo', 'kit_fox', 'kobe_logo', 'kwanyin', 'lacewing', 'laptop', 'lemon', 'lettuce', 'lion', 'lipstick', 'loggerhead_turtle', 'loguat', 'louvre_pyramid', 'lycaenid_butterfly', 'macaw', 'mango', 'mashed_potato', 'matchstick', 'mcdonald_sign', 'microsd', 'monarch_butterfly', 'monocycle', 'mortar', 'nagoya_castle', 'narcissus', 'nike_logo', 'olive', 'orang', 'oscilloscope', 'ox', 'panda', 'parachute', 'parking_meter', 'partridge', 'pay_phone', 'peanut', 'pear', 'piano_keyboard', 'pickelhaube', 'pig', 'pillow', 'pinecone', 'pingpong_ball', 'plaice', 'platypus', 'pomegranate', 'power_drill', 'pretzel', 'projector', 'pubg_airdrop', 'pubg_lvl3backpack', 'pumpkin', 'rabbit', 'raven', 'razor', 'red_fox', 'redshank', 'refrigerator', 'relay_stick', 'revolver', 'rock_snake', 'rose', 'saltshaker', 'sandal', 'sandbar', 'saxophone', 'scarerow', 'school_bus', 'schooner', 'scissors', 'sea_cucumber', 'sea_urchin', 'sewing_machine', 'shovel', 'shuriken', 'siamese_cat', 'skateboard', 'ski_mask', 'smoothing_iron', 'sniper_rifle', 'soap_dispenser', 'sock', 'soup_bowl', 'spider', 'spider_monkey', 'squirrel_monkey', 'stopwatch', 'stretcher', 'strongbox', 'sturgeon', 'suitcase', 'sungnyemun', 'sweatshirt', 'swim_ring', 'syringe', 'tape_player', 'taro', 'television', \"thor's_hammer\", 'three-toed_sloth', 'thrush', 'tiger_cat', 'tiger_shark', 'timber_wolf', 'toilet_brush', 'toilet_seat', 'tomato', 'totem_pole', 'toucan', 'tow_truck', 'tray', 'triumphal_arch', 'tulip', 'turnstile', 'typewriter', 'umbrella', 'upright_piano', 'vacuum', 'vase', 'volleyball', 'vulture', 'water_ouzel', 'water_tower', 'weasel', 'whiptail', 'whistle', 'white_stork', 'windsor_tie', 'wine_bottle', 'wolf', 'woodpecker', 'yawl', 'yoga_pad', 'yonex_icon', \"abe's_flyingfish\", 'accordion', 'american_alligator', 'american_chamelon', 'andean_condor', 'anise', 'apple_icon', 'arch_bridge', 'arrow', 'astronaut', 'australian_terrier', 'bamboo_dragonfly', 'bamboo_slip', 'banana_boat', 'barber_shaver', 'bat', 'bath_ball', 'beet_root', 'bell_pepper', 'big_ben', 'black_bear', 'bloodhound', 'boxing_gloves', 'breast_pump', 'broom', 'bucket', 'bulb', 'burj_al', 'bus', 'bustard', 'cabbage_butterfly', 'cablestayed_bridge', 'cantilever_bridge', 'canton_tower', 'captain_america_shield', 'carriage', 'cathedrale_paris', 'cd', 'chalk_brush', 'chandelier', 'charge_battery', 'chess_king', 'chess_knight', 'chess_queen', 'chicken', 'chicken_leg', 'chiffon_cake', 'chinese_knot', 'church', 'cicada', 'clam', 'clearwing_flyingfish', 'cloud', 'coffee_mug', 'coin', 'combination_lock', 'condor', 'cricket', 'crt_screen', 'cuckoo', 'curlew', 'dart_target', 'delta_wing', 'diver', 'doormat', 'doublebus', 'doughnut', 'downy_pitch', 'drilling_platform', 'dwarf_beans', 'eagle', 'earphone1', 'earphone2', 'echidna', 'egg', 'electronic_stove', 'english_foxhound', 'f1_racing', 'fan', 'feather_clothes', 'fennel_bulb', 'ferrari911', 'fish', 'fish_eagle', 'flamingo', 'fly', 'flying_frog', 'flying_geckos', 'flying_snakes', 'flying_squirrel', 'fox', 'french_fries', 'ganeva_chair', 'glider_flyingfish', 'goblet', 'golden_plover', 'goldfinch', 'groenendael', 'guitar', 'gym_ball', 'haddock', 'hair_razor', 'hang_glider', 'harmonica', 'hawk', 'helicopter', 'hotel_slipper', 'hover_board', 'iguana', 'indri', 'ipad', 'iphone', 'iron_man', 'jet_aircraft', 'kart', 'key', 'knife', 'kunai', 'lapwing', 'leaf_egg', 'leaf_fan', 'leafhopper', 'leather_shoes', 'leggings', 'lemur_catta', 'letter_opener', 'little_blue_heron', 'lotus', 'magpie_bird', 'manatee', 'marimba', 'may_bug', 'meatloaf', 'microscope', 'minicooper', 'missile', 'mite_predator', 'mitten', 'moist_proof_pad', 'monkey', 'moon', 'motorbike', 'net_surface_shoes', 'nintendo_3ds', 'nintendo_gba', 'nintendo_sp', 'nintendo_switch', 'nintendo_wiiu', 'ocarina', 'oiltank_car', 'onion', 'oriole', 'osprey', 'oyster', 'paper_plane', 'parthenon', 'pencil_sharpener1', 'peregine_falcon', 'pheasant', 'phonograph', 'photocopier', 'pidan', 'pizza', 'plastic_bag', 'poached_egg', 'polo_shirt', 'porcupine', 'potato_chips', 'pspgo', 'pteropus', 'pumpkin_pie', 'pyramid', 'pyramid_cube', 'pyraminx', 'quail', 'quail_egg', 'rally_car', 'reel', 'reflex_camera', 'rice_cooker', 'rocking_chair', 'rubber_eraser', 'rubick_cube', 'rugby_ball', 'ruler', 'samarra_mosque', 'santa_sledge', 'screw', 'seagull', 'sealion', 'shower_curtain', 'shumai', 'siamang', 'sled', 'snow_leopard', 'snowman', 'snowplow', 'soap', 'soymilk_machine', 'speedboat', 'spiderman', 'spinach', 'stealth_aircraft', 'steering_wheel', 'stingray', 'stone_lion', 'stonechat', 'stork', 'strawberry', 'sulphur_butterfly', 'sushi', 'swan', 'sydney_opera_house', 'taj_mahal', 'tiltrotor', 'toaster', 'tower_pisa', 'transport_helicopter', 'tredmill', 'truss_bridge', 'tunnel', 'twin_tower', 'vacuum_cup', 'villa_savoye', 'vinyl', 'wagtail', 'wandering_albatross', 'warehouse_tray', 'warplane', 'wasp', 'water_buffalo', 'water_heater', 'wheelchair', 'whippet', 'white_wolf', 'wig', 'windmill', 'window_screen', 'wooden_boat', 'wooden_spoon']\n",
      "Model loaded.\n"
     ]
    }
   ],
   "source": [
    "from map_utils import *\n",
    "from LoadLSeg import *"
   ]
  },
  {
   "cell_type": "code",
   "execution_count": 2,
   "metadata": {},
   "outputs": [],
   "source": [
    "sfpc = ServerFeaturePointCloudMap()"
   ]
  },
  {
   "cell_type": "code",
   "execution_count": 3,
   "metadata": {},
   "outputs": [],
   "source": [
    "# read a image\n",
    "from PIL import Image\n",
    "image = Image.open(\"/home/fyp/Pictures/TestSeg/office1.jpg\")"
   ]
  },
  {
   "cell_type": "code",
   "execution_count": 4,
   "metadata": {},
   "outputs": [],
   "source": [
    "sfpc.set_model(model)"
   ]
  },
  {
   "cell_type": "code",
   "execution_count": 5,
   "metadata": {},
   "outputs": [],
   "source": [
    "sfpc.pil_image = image\n",
    "sfpc.update_feature()"
   ]
  },
  {
   "cell_type": "code",
   "execution_count": 6,
   "metadata": {},
   "outputs": [],
   "source": [
    "feature = sfpc.current_feature\n",
    "def PCA_cp(feat, n_components=20):\n",
    "    '''\n",
    "    Applies PCA to reduce the dimensionality of the feature map.\n",
    "\n",
    "    Args:\n",
    "        feat (torch.Tensor): The input feature map.\n",
    "        n_components (int): The number of principal components to keep.\n",
    "\n",
    "    Returns:\n",
    "        numpy.ndarray: The transformed feature map with reduced dimensionality.\n",
    "    '''\n",
    "    pca = PCA(n_components=n_components)\n",
    "    feat_map = feat.flatten(start_dim=0, end_dim=1).detach().cpu().numpy()\n",
    "    features = pca.fit_transform(feat_map)\n",
    "    return features"
   ]
  },
  {
   "cell_type": "code",
   "execution_count": 7,
   "metadata": {},
   "outputs": [],
   "source": [
    "from cuml.decomposition import PCA as cuPCA"
   ]
  },
  {
   "cell_type": "code",
   "execution_count": 8,
   "metadata": {},
   "outputs": [],
   "source": [
    "features = sfpc.fip.PCA_cuda(sfpc.current_feature)"
   ]
  },
  {
   "cell_type": "code",
   "execution_count": 9,
   "metadata": {},
   "outputs": [],
   "source": [
    "clustered_image = sfpc.fip.Cluster_cuda(features)"
   ]
  },
  {
   "cell_type": "code",
   "execution_count": 10,
   "metadata": {},
   "outputs": [],
   "source": [
    "key_pixels = sfpc.fip.obtain_key_pixels(sfpc.current_feature, clustered_image)"
   ]
  },
  {
   "cell_type": "code",
   "execution_count": 11,
   "metadata": {},
   "outputs": [
    {
     "data": {
      "text/plain": [
       "list"
      ]
     },
     "execution_count": 11,
     "metadata": {},
     "output_type": "execute_result"
    }
   ],
   "source": [
    "type(key_pixels)"
   ]
  },
  {
   "cell_type": "code",
   "execution_count": 13,
   "metadata": {},
   "outputs": [
    {
     "data": {
      "text/plain": [
       "tuple"
      ]
     },
     "execution_count": 13,
     "metadata": {},
     "output_type": "execute_result"
    }
   ],
   "source": [
    "type(key_pixels[0])"
   ]
  },
  {
   "cell_type": "code",
   "execution_count": 17,
   "metadata": {},
   "outputs": [
    {
     "name": "stdout",
     "output_type": "stream",
     "text": [
      "<class 'numpy.ndarray'>\n"
     ]
    }
   ],
   "source": [
    "print(type(key_pixels[0][1][1]))"
   ]
  },
  {
   "cell_type": "code",
   "execution_count": null,
   "metadata": {},
   "outputs": [],
   "source": []
  }
 ],
 "metadata": {
  "kernelspec": {
   "display_name": "Python 3",
   "language": "python",
   "name": "python3"
  },
  "language_info": {
   "codemirror_mode": {
    "name": "ipython",
    "version": 3
   },
   "file_extension": ".py",
   "mimetype": "text/x-python",
   "name": "python",
   "nbconvert_exporter": "python",
   "pygments_lexer": "ipython3",
   "version": "3.10.12"
  }
 },
 "nbformat": 4,
 "nbformat_minor": 2
}
