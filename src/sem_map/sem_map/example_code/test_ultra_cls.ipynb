{
 "cells": [
  {
   "cell_type": "code",
   "execution_count": null,
   "metadata": {},
   "outputs": [],
   "source": [
    "from ultralytics import YOLO\n",
    "from PIL import Image\n",
    "\n",
    "model = YOLO(\"../../model/yolo11x-cls.pt\")  # load a custom model\n",
    "# model = YOLO(\"../../model/yolov8s-world.pt\")  # load a custom model\n",
    "# image_path = \"/home/fyp/Pictures/TestSeg/office1.jpg\"\n",
    "image_path=\"/home/fyp/Pictures/TestSeg/tape_measure.jpg\""
   ]
  },
  {
   "cell_type": "code",
   "execution_count": null,
   "metadata": {},
   "outputs": [],
   "source": [
    "results = model(image_path)  # predict on an image\n",
    "\n",
    "# # Access the results\n",
    "# for result in results:\n",
    "#     xywh = result.boxes.xywh  # center-x, center-y, width, height\n",
    "#     xywhn = result.boxes.xywhn  # normalized\n",
    "#     xyxy = result.boxes.xyxy  # top-left-x, top-left-y, bottom-right-x, bottom-right-y\n",
    "#     xyxyn = result.boxes.xyxyn  # normalized\n",
    "#     names = [result.names[cls.item()] for cls in result.boxes.cls.int()]  # class name of each box\n",
    "#     confs = result.boxes.conf  # confidence score of each box\n",
    "#     print(1)\n",
    "results = results[0]\n",
    "print(type(results))\n",
    "print(len(results))\n",
    "print(results)\n"
   ]
  },
  {
   "cell_type": "code",
   "execution_count": null,
   "metadata": {},
   "outputs": [],
   "source": [
    "vars(results)"
   ]
  },
  {
   "cell_type": "code",
   "execution_count": null,
   "metadata": {},
   "outputs": [],
   "source": [
    "# Import necessary libraries\n",
    "import matplotlib.pyplot as plt\n",
    "\n",
    "# Draw the results on the image\n",
    "annotated_image = results[0].plot()\n",
    "\n",
    "# Convert the image to a format suitable for Matplotlib\n",
    "annotated_image = Image.fromarray(annotated_image[..., ::-1])\n",
    "\n",
    "# Display the image in the Jupyter Notebook\n",
    "plt.rcParams['figure.dpi'] = 300\n",
    "plt.imshow(annotated_image)\n",
    "plt.axis('off')\n",
    "plt.show()\n",
    "# Print the size of the annotated image\n",
    "width, height = annotated_image.size\n",
    "print(f\"Image width: {width}, Image height: {height}\")\n"
   ]
  },
  {
   "cell_type": "code",
   "execution_count": null,
   "metadata": {},
   "outputs": [],
   "source": [
    "xywh"
   ]
  },
  {
   "cell_type": "code",
   "execution_count": null,
   "metadata": {},
   "outputs": [],
   "source": [
    "xywh.cpu().detach().numpy().tolist()"
   ]
  },
  {
   "cell_type": "code",
   "execution_count": null,
   "metadata": {},
   "outputs": [],
   "source": []
  }
 ],
 "metadata": {
  "kernelspec": {
   "display_name": "Python 3",
   "language": "python",
   "name": "python3"
  },
  "language_info": {
   "codemirror_mode": {
    "name": "ipython",
    "version": 3
   },
   "file_extension": ".py",
   "mimetype": "text/x-python",
   "name": "python",
   "nbconvert_exporter": "python",
   "pygments_lexer": "ipython3",
   "version": "3.10.12"
  }
 },
 "nbformat": 4,
 "nbformat_minor": 2
}
