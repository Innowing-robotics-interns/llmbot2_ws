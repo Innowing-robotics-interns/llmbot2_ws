{
 "cells": [
  {
   "cell_type": "code",
   "execution_count": 1,
   "metadata": {},
   "outputs": [
    {
     "name": "stderr",
     "output_type": "stream",
     "text": [
      "/home/fyp/.local/lib/python3.10/site-packages/tqdm/auto.py:21: TqdmWarning: IProgress not found. Please update jupyter and ipywidgets. See https://ipywidgets.readthedocs.io/en/stable/user_install.html\n",
      "  from .autonotebook import tqdm as notebook_tqdm\n"
     ]
    },
    {
     "name": "stdout",
     "output_type": "stream",
     "text": [
      "Namespace(model='encnet', backbone='clip_vitl16_384', dataset='fss', workers=16, base_size=520, crop_size=480, train_split='train', aux=False, se_loss=False, se_weight=0.2, batch_size=16, test_batch_size=16, no_cuda=False, seed=1, weights='/home/fyp/lang-seg/checkpoints/demo_e200.ckpt', eval=False, acc_bn=False, test_val=False, no_val=False, module='clipseg_DPT_test_v2', scale_inv=False, widehead=True, widehead_hr=False, ignore_index=255, jobname='default', strict=True, use_pretrained='True', arch_option=0, nshot=0, fold=0, nworker=0, bsz=1, benchmark='pascal', datapath='data/Datasets_HSN', activation='relu', cuda=True)\n",
      "Loading model...\n"
     ]
    },
    {
     "name": "stderr",
     "output_type": "stream",
     "text": [
      "/home/fyp/.local/lib/python3.10/site-packages/pytorch_lightning/utilities/migration/migration.py:208: You have multiple `ModelCheckpoint` callback states in this checkpoint, but we found state keys that would end up colliding with each other after an upgrade, which means we can't differentiate which of your checkpoint callbacks needs which states. At least one of your `ModelCheckpoint` callbacks will not be able to reload the state.\n",
      "Lightning automatically upgraded your loaded checkpoint from v1.3.5 to v2.4.0. To apply the upgrade to your files permanently, run `python -m pytorch_lightning.utilities.upgrade_checkpoint checkpoints/demo_e200.ckpt`\n",
      "/home/fyp/lang-seg/modules/lsegmentation_module_zs.py:50: FutureWarning: `torch.cuda.amp.GradScaler(args...)` is deprecated. Please use `torch.amp.GradScaler('cuda', args...)` instead.\n",
      "  self.scaler = amp.GradScaler(enabled=self.enabled)\n",
      "\n",
      ":=========== Few-shot Seg. with HSNet ===========\n",
      "|             datapath: data/Datasets_HSN       \n",
      "|              logpath: /home/fyp/lang-seg/fewshot/logpath_4T/\n",
      "|            benchmark: fss                     \n",
      "|                  bsz: 1                       \n",
      "|                 fold: 0                       \n",
      "|                nshot: 0                       \n",
      "|        finetune_mode: False                   \n",
      ":================================================\n",
      "\n"
     ]
    },
    {
     "name": "stdout",
     "output_type": "stream",
     "text": [
      "use norm: [0.5, 0.5, 0.5], [0.5, 0.5, 0.5]\n",
      "['ac_wall', 'acorn', 'adhensive_tape', 'adidas_logo1', 'adidas_logo2', 'afghan_hound', 'african_elephant', 'african_grey', 'agama', 'air_strip', 'aircraft_carrier', 'airedale', 'airship', 'almond', 'ambulance', 'american_staffordshire', 'anemone_fish', 'angora', 'apple', 'armour', 'ashtray', 'assult_rifle', 'aubergine', 'avocado', 'baboon', 'backpack', 'bagel', 'balance_weight', 'bald_eagle', 'ballpoint', 'banana', 'band-aid', 'banded_gecko', 'barometer', 'baseball_bat', 'baseball_player', 'basketball', 'bassoon', 'bathtub', 'battery', 'beacon', 'beaker', 'beam_bridge', 'bear', 'beaver', 'bedlington_terrier', 'bee_house', 'besom', 'birdhouse', 'bison', 'black_grouse', 'black_stork', 'black_swan', 'blossom_card', 'boa_constrictor', 'bolotie', 'bomb', 'border_terrier', 'boston_bull', 'bottle_cap', 'bouzouki', 'box_turtle', 'bra', 'bracelet', 'bradypod', 'brain_coral', 'brambling', 'brasscica', 'brick', 'brick_card', 'brick_tea', 'briefcase', 'brown_bear', 'brush_pen', 'buckingham_palace', 'buckler', 'bullet_train', 'bushtit', 'butterfly', 'cableways', 'cactus_ball', 'cairn', 'camel', 'can_opener', 'candle', 'cannon', 'canoe', 'capuchin', 'car_mirror', 'car_wheel', 'carbonara', 'carousel', 'carp', 'carrot', 'carton', 'cassette', 'cauliflower', 'celery', 'cello', 'chainsaw', 'chalk', 'cheese_burger', 'chess_bishop', 'chest', 'chickadee_bird', 'chicken_wings', 'chicory', 'chihuahua', 'children_slide', 'chinese_date', 'chopsticks', 'christmas_stocking', 'cleaver', 'cn_tower', 'cocacola', 'cocktail_shaker', 'coffin', 'coho', 'collar', 'comb', 'computer_mouse', 'conch', 'convertible', 'cornet', 'cosmetic_brush', 'cottontail', 'coucal', 'cougar', 'cowboy_hat', 'coyote', 'crane', 'crash_helmet', 'cream', 'cristo_redentor', 'croissant', 'cucumber', 'cumquat', 'dandie_dinmont', 'dart', 'dhole', 'diamond', 'diaper', 'digital_watch', 'dingo', 'dinosaur', 'donkey', 'dough', 'dragonfly', 'drake', 'drumstick', 'dugong', 'dumbbell', 'dutch_oven', 'earplug', 'eft_newt', 'egg_tart', 'eggnog', 'egret', 'egyptian_cat', 'electric_fan', 'electronic_toothbrush', 'eletrical_switch', 'envelope', 'esport_chair', 'espresso', 'excavator', 'face_powder', 'feeder', 'ferret', 'fig', 'file_cabinet', 'fire_engine', 'flatworm', 'flowerpot', 'flute', 'flying_disc', 'fork', 'forklift', 'fountain', 'frog', 'fur_coat', 'garbage_can', 'garbage_truck', 'garfish', 'garlic', 'gas_pump', 'gazelle', 'gecko', 'german_pointer', 'giant_panda', 'gliding_lizard', 'globe', 'golden_retriever', 'goldfish', 'golf_ball', 'golfcart', 'goose', 'gorilla', 'gourd', 'grasshopper', 'great_wall', 'green_mamba', 'grey_fox', 'grey_whale', 'guacamole', 'guinea_pig', 'gypsy_moth', 'hamster', 'handshower', 'hard_disk', 'hare', 'hartebeest', 'harvester', 'hawthorn', 'head_cabbage', 'hen_of_the_woods', 'hock', 'hook', 'hornbill', 'hornet', 'housefinch', 'howler_monkey', 'hummingbird', 'hyena', 'ibex', 'igloo', 'indian_cobra', 'indian_elephant', 'jacamar', 'jackfruit', 'jacko_lantern', 'jellyfish', 'jinrikisha', 'jordan_logo', 'joystick', 'kangaroo', 'kappa_logo', 'keyboard', 'killer_whale', 'kinguin', 'kitchen_knife', 'kite', 'koala', 'kremlin', 'ladder', 'ladle', 'lady_slipper', 'ladybug', 'ladyfinger', 'lampshade', 'langur', 'lark', 'lawn_mower', 'leatherback_turtle', 'leeks', 'leopard', 'lesser_panda', 'lhasa_apso', 'lifeboat', 'light_tube', 'lionfish', 'litchi', 'llama', 'loafer', 'lobster', 'lorikeet', 'lynx', 'macaque', 'mailbox', 'manx', 'maotai_bottle', 'maraca', 'mario', 'marmot', 'marshmallow', 'mcdonald_uncle', 'measuring_cup', 'medical_kit', 'meerkat', 'melon_seed', 'memory_stick', 'microphone', 'microwave', 'military_vest', 'miniskirt', 'mink', 'modem', 'mongoose', 'monitor', 'mooli', 'mooncake', 'motarboard', 'motor_scooter', 'mount_fuji', 'mountain_tent', 'mouse', 'mouthpiece', 'mud_turtle', 'mule', 'muscle_car', 'mushroom', 'nail_scissor', 'neck_brace', 'necklace', 'nematode', 'night_snake', 'obelisk', 'ocicat', 'oil_filter', 'okra', 'one-armed_bandit', 'orange', 'ostrich', 'otter', 'owl', 'paddle', 'paint_brush', 'panpipe', 'panther', 'papaya', 'paper_crane', 'paper_towel', 'parallel_bars', 'park_bench', 'patas', 'peacock', 'pen', 'pencil_box', 'pencil_sharpener2', 'pepitas', 'perfume', 'persian_cat', 'persimmon', 'petri_dish', 'pickup', 'pill_bottle', 'pineapple', 'pingpong_racket', 'pinwheel', 'pistachio', 'plate', 'poker', 'pokermon_ball', 'polar_bear', 'polecat', 'police_car', 'pomelo', 'pool_table', 'potato', 'potted_plant', 'prairie_chicken', 'prayer_rug', 'printer', 'proboscis', 'psp', 'ptarmigan', 'pubg_lvl3helmet', 'pufferfish', 'puma_logo', 'punching_bag', 'quad_drone', 'quill_pen', 'raccoon', 'radiator', 'radio', 'radio_telescope', 'raft', 'rain_barrel', 'recreational_vehicle', 'red_bayberry', 'red_breasted_merganser', 'red_wolf', 'redheart', 'remote_control', 'rhinoceros', 'ringlet_butterfly', 'rock_beauty', 'rocket', 'roller_coaster', 'roller_skate', 'rosehip', 'ruddy_turnstone', 'ruffed_grouse', 'running_shoe', 'saluki', 'sandwich', 'sandwich_cookies', 'sarong', 'scabbard', 'scorpion', 'screwdriver', 'scroll_brush', 'seal', 'seatbelt', 'shakuhachi', 'shift_gear', 'shih-tzu', 'shopping_cart', 'shotgun', 'shower_cap', 'sidewinder', 'single_log', 'skua', 'skull', 'skunk', 'sleeping_bag', 'sloth_bear', 'snail', 'snake', 'snowball', 'snowmobile', 'soccer_ball', 'solar_dish', 'sombrero', 'space_heater', 'space_shuttle', 'spade', 'spark_plug', 'sparrow', 'spatula', 'speaker', 'sponge', 'spoon', 'spoonbill', 'sports_car', 'spotted_salamander', 'spring_scroll', 'squirrel', 'staffordshire', 'stapler', 'starfish', 'statue_liberty', 'steak', 'steam_locomotive', 'stinkhorn', 'stole', 'stool', 'stop_sign', 'stove', 'strainer', 'streetcar', 'studio_couch', 'stupa', 'submarine', 'sulphur_crested', 'sundial', 'sunglasses', 'sunscreen', 'surfboard', 'swab', 'swimming_glasses', 'swimming_trunk', 'table_lamp', 'tank', 'taxi', 'teapot', 'tebby_cat', 'teddy', 'telescope', 'tennis_racket', 'terrapin_turtle', 'thatch', 'thimble', 'throne', 'tiger', 'tile_roof', 'titi_monkey', 'tobacco_pipe', 'tofu', 'toilet_plunger', 'toilet_tissue', 'tokyo_tower', 'tomb', 'toothbrush', 'toothpaste', 'torii', 'tractor', 'traffic_light', 'trailer_truck', 'trench_coat', 'tresher', 'triceratops', 'trilobite', 'trimaran', 'trolleybus', 'turtle', 'usb', 'vending_machine', 'vestment', 'victor_icon', 'vine_snake', 'violin', 'wafer', 'waffle', 'waffle_iron', 'wall_clock', 'wallaby', 'wallet', 'walnut', 'wardrobe', 'warthog', 'wash_basin', 'washer', 'water_bike', 'water_polo', 'water_snake', 'watermelon', 'whale', 'white_shark', 'wild_boar', 'window_shade', 'witch_hat', 'wok', 'wombat', 'wreck', 'wrench', 'yorkshire_terrier', 'yurt', 'zebra', 'zucchini', 'ab_wheel', 'abacus', 'ac_ground', 'african_crocodile', 'airliner', 'albatross', 'apron', 'arabian_camel', 'arctic_fox', 'armadillo', 'artichoke', 'baby', 'badger', 'balance_beam', 'balloon', 'banjo', 'barbell', 'baseball', 'basset', 'beagle', 'bee', 'bee_eater', 'beer_bottle', 'beer_glass', 'bell', 'bighorn_sheep', 'bittern', 'blenheim_spaniel', 'bluetick', 'bolete', 'bowtie', 'briard', 'broccoli', 'bulbul_bird', 'cabbage', 'cactus', 'calculator', 'camomile', 'carambola', 'cardoon', 'ceiling_fan', 'cheese', 'cheetah', 'cherry', 'chimpanzee', 'cigar', 'cigarette', 'coconut', 'coffeepot', 'colubus', 'common_newt', 'consomme', 'conversion_plug', 'conveyor', 'corn', 'cornmeal', 'cpu', 'crab', 'cradle', 'crayon', 'crepe', 'cricketball', 'crocodile', 'croquet_ball', 'cup', 'cushion', 'daisy', 'digital_clock', 'dishwasher', 'dowitcher', 'drum', 'eel', 'english_setter', 'equestrian_helmet', 'espresso_maker', 'fire_balloon', 'fire_hydrant', 'fire_screen', 'flat-coated_retriever', 'folding_chair', 'fox_squirrel', 'french_ball', 'frying_pan', 'gas_tank', 'giant_schnauzer', 'gibbon', 'ginger', 'gyromitra', 'hair_drier', 'hami_melon', 'hammer', 'hammerhead_shark', 'handcuff', 'handkerchief', 'har_gow', 'harp', 'hatchet', 'hippo', 'hotdog', 'ice_lolly', 'iceberg', 'icecream', 'impala', 'ipod', 'ironing_board', 'jay_bird', 'kazoo', 'kit_fox', 'kobe_logo', 'kwanyin', 'lacewing', 'laptop', 'lemon', 'lettuce', 'lion', 'lipstick', 'loggerhead_turtle', 'loguat', 'louvre_pyramid', 'lycaenid_butterfly', 'macaw', 'mango', 'mashed_potato', 'matchstick', 'mcdonald_sign', 'microsd', 'monarch_butterfly', 'monocycle', 'mortar', 'nagoya_castle', 'narcissus', 'nike_logo', 'olive', 'orang', 'oscilloscope', 'ox', 'panda', 'parachute', 'parking_meter', 'partridge', 'pay_phone', 'peanut', 'pear', 'piano_keyboard', 'pickelhaube', 'pig', 'pillow', 'pinecone', 'pingpong_ball', 'plaice', 'platypus', 'pomegranate', 'power_drill', 'pretzel', 'projector', 'pubg_airdrop', 'pubg_lvl3backpack', 'pumpkin', 'rabbit', 'raven', 'razor', 'red_fox', 'redshank', 'refrigerator', 'relay_stick', 'revolver', 'rock_snake', 'rose', 'saltshaker', 'sandal', 'sandbar', 'saxophone', 'scarerow', 'school_bus', 'schooner', 'scissors', 'sea_cucumber', 'sea_urchin', 'sewing_machine', 'shovel', 'shuriken', 'siamese_cat', 'skateboard', 'ski_mask', 'smoothing_iron', 'sniper_rifle', 'soap_dispenser', 'sock', 'soup_bowl', 'spider', 'spider_monkey', 'squirrel_monkey', 'stopwatch', 'stretcher', 'strongbox', 'sturgeon', 'suitcase', 'sungnyemun', 'sweatshirt', 'swim_ring', 'syringe', 'tape_player', 'taro', 'television', \"thor's_hammer\", 'three-toed_sloth', 'thrush', 'tiger_cat', 'tiger_shark', 'timber_wolf', 'toilet_brush', 'toilet_seat', 'tomato', 'totem_pole', 'toucan', 'tow_truck', 'tray', 'triumphal_arch', 'tulip', 'turnstile', 'typewriter', 'umbrella', 'upright_piano', 'vacuum', 'vase', 'volleyball', 'vulture', 'water_ouzel', 'water_tower', 'weasel', 'whiptail', 'whistle', 'white_stork', 'windsor_tie', 'wine_bottle', 'wolf', 'woodpecker', 'yawl', 'yoga_pad', 'yonex_icon', \"abe's_flyingfish\", 'accordion', 'american_alligator', 'american_chamelon', 'andean_condor', 'anise', 'apple_icon', 'arch_bridge', 'arrow', 'astronaut', 'australian_terrier', 'bamboo_dragonfly', 'bamboo_slip', 'banana_boat', 'barber_shaver', 'bat', 'bath_ball', 'beet_root', 'bell_pepper', 'big_ben', 'black_bear', 'bloodhound', 'boxing_gloves', 'breast_pump', 'broom', 'bucket', 'bulb', 'burj_al', 'bus', 'bustard', 'cabbage_butterfly', 'cablestayed_bridge', 'cantilever_bridge', 'canton_tower', 'captain_america_shield', 'carriage', 'cathedrale_paris', 'cd', 'chalk_brush', 'chandelier', 'charge_battery', 'chess_king', 'chess_knight', 'chess_queen', 'chicken', 'chicken_leg', 'chiffon_cake', 'chinese_knot', 'church', 'cicada', 'clam', 'clearwing_flyingfish', 'cloud', 'coffee_mug', 'coin', 'combination_lock', 'condor', 'cricket', 'crt_screen', 'cuckoo', 'curlew', 'dart_target', 'delta_wing', 'diver', 'doormat', 'doublebus', 'doughnut', 'downy_pitch', 'drilling_platform', 'dwarf_beans', 'eagle', 'earphone1', 'earphone2', 'echidna', 'egg', 'electronic_stove', 'english_foxhound', 'f1_racing', 'fan', 'feather_clothes', 'fennel_bulb', 'ferrari911', 'fish', 'fish_eagle', 'flamingo', 'fly', 'flying_frog', 'flying_geckos', 'flying_snakes', 'flying_squirrel', 'fox', 'french_fries', 'ganeva_chair', 'glider_flyingfish', 'goblet', 'golden_plover', 'goldfinch', 'groenendael', 'guitar', 'gym_ball', 'haddock', 'hair_razor', 'hang_glider', 'harmonica', 'hawk', 'helicopter', 'hotel_slipper', 'hover_board', 'iguana', 'indri', 'ipad', 'iphone', 'iron_man', 'jet_aircraft', 'kart', 'key', 'knife', 'kunai', 'lapwing', 'leaf_egg', 'leaf_fan', 'leafhopper', 'leather_shoes', 'leggings', 'lemur_catta', 'letter_opener', 'little_blue_heron', 'lotus', 'magpie_bird', 'manatee', 'marimba', 'may_bug', 'meatloaf', 'microscope', 'minicooper', 'missile', 'mite_predator', 'mitten', 'moist_proof_pad', 'monkey', 'moon', 'motorbike', 'net_surface_shoes', 'nintendo_3ds', 'nintendo_gba', 'nintendo_sp', 'nintendo_switch', 'nintendo_wiiu', 'ocarina', 'oiltank_car', 'onion', 'oriole', 'osprey', 'oyster', 'paper_plane', 'parthenon', 'pencil_sharpener1', 'peregine_falcon', 'pheasant', 'phonograph', 'photocopier', 'pidan', 'pizza', 'plastic_bag', 'poached_egg', 'polo_shirt', 'porcupine', 'potato_chips', 'pspgo', 'pteropus', 'pumpkin_pie', 'pyramid', 'pyramid_cube', 'pyraminx', 'quail', 'quail_egg', 'rally_car', 'reel', 'reflex_camera', 'rice_cooker', 'rocking_chair', 'rubber_eraser', 'rubick_cube', 'rugby_ball', 'ruler', 'samarra_mosque', 'santa_sledge', 'screw', 'seagull', 'sealion', 'shower_curtain', 'shumai', 'siamang', 'sled', 'snow_leopard', 'snowman', 'snowplow', 'soap', 'soymilk_machine', 'speedboat', 'spiderman', 'spinach', 'stealth_aircraft', 'steering_wheel', 'stingray', 'stone_lion', 'stonechat', 'stork', 'strawberry', 'sulphur_butterfly', 'sushi', 'swan', 'sydney_opera_house', 'taj_mahal', 'tiltrotor', 'toaster', 'tower_pisa', 'transport_helicopter', 'tredmill', 'truss_bridge', 'tunnel', 'twin_tower', 'vacuum_cup', 'villa_savoye', 'vinyl', 'wagtail', 'wandering_albatross', 'warehouse_tray', 'warplane', 'wasp', 'water_buffalo', 'water_heater', 'wheelchair', 'whippet', 'white_wolf', 'wig', 'windmill', 'window_screen', 'wooden_boat', 'wooden_spoon']\n",
      "Model loaded.\n"
     ]
    }
   ],
   "source": [
    "from map_utils import *\n",
    "from LoadLSeg import *\n",
    "import torchvision.transforms as transforms\n",
    "from test_lseg_zs import *"
   ]
  },
  {
   "cell_type": "code",
   "execution_count": 3,
   "metadata": {},
   "outputs": [],
   "source": [
    "import pickle\n",
    "path = '/home/fyp/llmbot2_ws/src/sem_map/sem_map/'\n",
    "with open(path+\"pcfm.pkl\", \"rb\") as f:\n",
    "    pcfm = pickle.load(f)   "
   ]
  },
  {
   "cell_type": "code",
   "execution_count": null,
   "metadata": {},
   "outputs": [
    {
     "name": "stdout",
     "output_type": "stream",
     "text": [
      "[0.751  0.8916 0.8374 0.871  0.8667 0.764  0.806  0.7495 0.885  0.757\n",
      " 0.786  0.7373 0.884  0.7573 0.8174 0.835  0.7725 0.786  0.804  0.8237\n",
      " 0.8174 0.8003 0.7393 0.7236 0.7896 0.8003 0.8726 0.81   0.7544 0.854\n",
      " 0.7656 0.753  0.848  0.7954 0.869  0.7495 0.8916 0.8506 0.8735 0.7695\n",
      " 0.776  0.72   0.756  0.834  0.8394 0.7573 0.8643 0.7896 0.728  0.75\n",
      " 0.7393 0.7563 0.7373 0.8643 0.82   0.831  0.896  0.7583 0.738  0.82\n",
      " 0.7646 0.754  0.7373 0.7393 0.7524 0.772  0.766  0.7397 0.785  0.7554\n",
      " 0.8486 0.741  0.867  0.829  0.878  0.8657 0.7896 0.7695 0.755  0.722\n",
      " 0.7417 0.8916 0.802  0.883  0.831  0.7793 0.8853 0.806  0.821  0.791\n",
      " 0.884  0.7993 0.751  0.752  0.7725 0.8745 0.8013 0.7993 0.85   0.8545\n",
      " 0.849  0.8027 0.834  0.806  0.751  0.8784 0.8037 0.8306 0.7964 0.8906\n",
      " 0.7905 0.805  0.7495 0.7427 0.817  0.783  0.8394 0.83   0.8853 0.811\n",
      " 0.792  0.7837 0.874  0.746  0.758  0.7886 0.8228 0.8184 0.8745 0.746\n",
      " 0.878  0.8276 0.8267 0.8643 0.8125 0.7544 0.756  0.881  0.783  0.839\n",
      " 0.7837 0.83   0.8623 0.8364 0.826  0.8027 0.883  0.85   0.8867 0.839\n",
      " 0.8003 0.853  0.7925 0.7476 0.8213 0.856  0.827  0.8853 0.8633 0.8555\n",
      " 0.897  0.801  0.8477 0.898  0.814  0.828  0.842  0.83   0.8193 0.8286\n",
      " 0.8813 0.8423 0.8906 0.8535 0.745  0.8335 0.764  0.832  0.753  0.853\n",
      " 0.8574 0.7407 0.755  0.776  0.8193 0.862  0.8345 0.816  0.852  0.8423\n",
      " 0.826  0.8555 0.8315 0.865  0.797  0.7983 0.8296 0.829  0.8286 0.894\n",
      " 0.8306 0.8535 0.7583 0.753  0.7827 0.7563 0.8906 0.749  0.758  0.8745\n",
      " 0.7427 0.836  0.7583 0.761  0.8696 0.8174 0.7915 0.887  0.7554 0.775\n",
      " 0.7417 0.895  0.7607 0.83   0.743  0.8955 0.762  0.8433 0.864  0.7925\n",
      " 0.8936 0.766  0.74   0.8706 0.7803 0.866  0.795  0.8335 0.8096 0.862\n",
      " 0.8623 0.767  0.8022 0.86   0.8145 0.8037 0.7456 0.8013 0.879  0.818\n",
      " 0.772  0.7607 0.761  0.7896 0.88   0.805  0.89   0.8677 0.876  0.742\n",
      " 0.831  0.764  0.743  0.824  0.763  0.8325 0.8203 0.8027 0.806  0.743\n",
      " 0.826  0.764  0.886  0.849  0.81   0.818  0.7427 0.7617 0.8003 0.9097\n",
      " 0.7944 0.7515 0.86   0.8994 0.8853 0.8486 0.878  0.7734 0.881  0.8584\n",
      " 0.777  0.73   0.715  0.804  0.749  0.7393 0.776  0.821  0.729  0.7217\n",
      " 0.6914 0.7    0.7944 0.798  0.823  0.784  0.7617 0.765  0.771  0.798\n",
      " 0.7817 0.8076 0.801  0.797  0.7935 0.8115 0.8174 0.82   0.825  0.775\n",
      " 0.81   0.8096 0.806  0.812  0.8105 0.7544 0.794  0.7593 0.7705 0.8276\n",
      " 0.764  0.796  0.8154 0.8096 0.776  0.7563 0.8315 0.735  0.7754 0.809\n",
      " 0.7974 0.7974 0.796  0.801  0.78   0.803  0.7974 0.7505 0.8994 0.8096\n",
      " 0.793  0.7705 0.7715 0.7925 0.8125 0.764  0.8315 0.776  0.6924 0.754\n",
      " 0.8325 0.8203 0.7485 0.802  0.8174 0.819  0.8237 0.81   0.797  0.7705\n",
      " 0.754  0.757  0.768  0.773  0.8047 0.841  0.807  0.818  0.8296 0.8\n",
      " 0.7944 0.751  0.841  0.8105 0.788  0.801  0.811  0.8145 0.796  0.786\n",
      " 0.821  0.75   0.7554 0.8096 0.8154 0.845  0.801  0.807  0.807  0.7544\n",
      " 0.771  0.822  0.8037 0.801  0.819  0.8433 0.797  0.798  0.7837 0.7896\n",
      " 0.692  0.809  0.8047 0.751  0.7573 0.7725 0.7837 0.8154 0.808  0.847\n",
      " 0.8125 0.807  0.867  0.7544 0.82   0.8174 0.772  0.75   0.818  0.7515\n",
      " 0.815  0.741  0.7954 0.773  0.8013 0.828  0.7827 0.816  0.7925 0.7983\n",
      " 0.7744 0.8027 0.8    0.796  0.81   0.7666 0.8086 0.8467 0.8145 0.7544\n",
      " 0.7676 0.814  0.772  0.821  0.849  0.752  0.7886 0.7783 0.8135 0.8027\n",
      " 0.816  0.8066 0.804  0.7637 0.7935 0.8047 0.799  0.7734 0.8086 0.7964\n",
      " 0.8096 0.8184 0.8447 0.813  0.828  0.748  0.799  0.7944 0.846  0.823\n",
      " 0.8247 0.8584 0.817  0.7944 0.838  0.876  0.802  0.7993 0.838  0.8013\n",
      " 0.796  0.8174 0.813  0.7915 0.7954 0.815  0.692  0.7637 0.8184 0.765\n",
      " 0.7812 0.795  0.789  0.792  0.789  0.752  0.8335 0.8364 0.8184 0.769\n",
      " 0.81   0.8306 0.782  0.823  0.801  0.794  0.7627 0.826  0.755  0.822\n",
      " 0.8467 0.754  0.817  0.794  0.7925 0.775  0.775  0.8477 0.874  0.7573\n",
      " 0.7954 0.8193 0.809  0.8086 0.7544 0.809  0.798  0.8076 0.7944 0.805\n",
      " 0.832  0.7734 0.8066 0.767  0.812  0.749  0.7676 0.795  0.8076 0.789\n",
      " 0.7974 0.7896 0.814  0.8203 0.7964 0.794  0.8257 0.7544 0.809  0.809\n",
      " 0.752  0.829  0.819  0.76   0.767  0.778  0.8174 0.81   0.755  0.8223\n",
      " 0.824  0.7603 0.7827 0.823  0.824  0.834  0.7754 0.808  0.757  0.8154\n",
      " 0.7983 0.8213 0.823  0.77   0.811  0.7847 0.792  0.7847 0.794  0.725\n",
      " 0.8047 0.8013 0.725  0.8125 0.808  0.7993 0.798  0.799  0.8096 0.7886\n",
      " 0.796  0.8013 0.8154 0.7725 0.829  0.7925 0.8257 0.798  0.77   0.835\n",
      " 0.688  0.807  0.743  0.774  0.7974 0.807  0.7324 0.8223 0.8193 0.7603\n",
      " 0.82   0.7627 0.7783 0.829  0.8867 0.798  0.8154 0.8335 0.84   0.8286\n",
      " 0.8955 0.8335 0.776  0.801  0.746  0.7876 0.868  0.824  0.8213 0.752\n",
      " 0.7925 0.875  0.9043 0.8315 0.825  0.804  0.8228 0.831  0.798  0.8975\n",
      " 0.9    0.829  0.769  0.8257 0.822  0.823  0.7495 0.773  0.805  0.817\n",
      " 0.7495 0.773  0.7617 0.813  0.746  0.758  0.805  0.7866 0.74   0.7593\n",
      " 0.833  0.8003 0.838  0.8037 0.766  0.768  0.7427 0.7456 0.7583 0.796\n",
      " 0.7793 0.844  0.7515 0.809  0.7847 0.7554 0.809  0.7944 0.7524 0.771\n",
      " 0.7603 0.7627 0.745  0.744  0.7417 0.775  0.7607 0.8125 0.779  0.747\n",
      " 0.7505 0.7593 0.7383 0.7744 0.7563 0.823  0.786  0.8105 0.8105 0.8086\n",
      " 0.832  0.8384 0.755  0.85   0.8394 0.804  0.771  0.887  0.7666 0.8647\n",
      " 0.881  0.8    0.7637 0.7334 0.8887 0.8853 0.8945 0.842  0.724  0.762\n",
      " 0.894  0.817  0.825  0.8364 0.771  0.7573 0.8633 0.8345 0.831  0.837\n",
      " 0.739  0.8687 0.881  0.865  0.778  0.7563 0.7397 0.7466 0.749  0.7554\n",
      " 0.764  0.807  0.774  0.736  0.743  0.807  0.81   0.8076 0.8184 0.762\n",
      " 0.7515 0.7554 0.8994 0.789  0.7905 0.759  0.7695 0.7666 0.762  0.7607\n",
      " 0.737  0.7554 0.8374 0.7524 0.7563 0.754  0.757  0.759  0.763  0.739\n",
      " 0.7397 0.7656 0.758  0.8325 0.7383 0.8223 0.7573 0.7705 0.753  0.789\n",
      " 0.765  0.759  0.7734 0.7607 0.759  0.765  0.759  0.7397 0.7583 0.7573\n",
      " 0.76   0.8984 0.7617 0.8545 0.8984]\n",
      "279\n"
     ]
    }
   ],
   "source": [
    "text = \"box\"\n",
    "with torch.no_grad():\n",
    "    text_feat = model.encode_text(text)\n",
    "similarities = []\n",
    "keys = list(pcfm.keys())\n",
    "values = list(pcfm.values())\n",
    "for val in values:\n",
    "    similarities.append(val.half() @ text_feat.t())\n",
    "similarities = torch.cat(similarities)\n",
    "similarities = similarities.cpu().detach().numpy()\n",
    "print(similarities)\n",
    "print(np.argmax(similarities))\n"
   ]
  },
  {
   "cell_type": "code",
   "execution_count": 22,
   "metadata": {},
   "outputs": [],
   "source": [
    "idx = np.where(similarities>0.89)[0]"
   ]
  },
  {
   "cell_type": "code",
   "execution_count": null,
   "metadata": {},
   "outputs": [
    {
     "data": {
      "text/plain": [
       "array([  1,  36,  56,  81, 109, 160, 163, 172, 199, 206, 221, 225, 230,\n",
       "       279, 283, 348, 630, 642, 649, 650, 726, 730, 762, 801, 804])"
      ]
     },
     "execution_count": 27,
     "metadata": {},
     "output_type": "execute_result"
    }
   ],
   "source": []
  },
  {
   "cell_type": "code",
   "execution_count": 32,
   "metadata": {},
   "outputs": [],
   "source": [
    "points = np.array(list(pcfm.keys()))[idx]"
   ]
  },
  {
   "cell_type": "code",
   "execution_count": 33,
   "metadata": {},
   "outputs": [
    {
     "name": "stdout",
     "output_type": "stream",
     "text": [
      "[[ 1.8  1.2 -0.8]\n",
      " [ 1.8  0.  -1.2]\n",
      " [ 1.2  1.  -0.6]\n",
      " [ 2.6  1.  -1. ]\n",
      " [ 1.8  0.8 -1.2]\n",
      " [ 1.2 -0.4 -0.6]\n",
      " [ 2.2 -0.4 -0.8]\n",
      " [ 1.8  0.  -1. ]\n",
      " [ 2.  -0.2 -0.8]\n",
      " [ 2.2  0.8 -1.4]\n",
      " [ 1.4  0.  -1. ]\n",
      " [ 0.4 -0.2 -0.2]\n",
      " [ 0.6 -0.2 -0.4]\n",
      " [ 1.4 -0.4 -0.6]\n",
      " [ 3.2  0.8 -1.8]\n",
      " [ 1.8  1.4 -1. ]\n",
      " [ 2.  -0.4 -0.8]\n",
      " [ 1.8 -0.6 -1.2]\n",
      " [ 2.2 -0.8 -0.8]\n",
      " [ 2.  -0.6 -1.2]\n",
      " [ 2.6  1.8 -1.4]\n",
      " [ 2.8  2.2 -1.6]\n",
      " [ 2.4  2.  -1.4]\n",
      " [ 1.6 -0.2 -1. ]\n",
      " [ 1.8 -0.2 -1.2]]\n"
     ]
    }
   ],
   "source": [
    "print(points)"
   ]
  },
  {
   "cell_type": "code",
   "execution_count": null,
   "metadata": {},
   "outputs": [],
   "source": []
  }
 ],
 "metadata": {
  "kernelspec": {
   "display_name": "Python 3",
   "language": "python",
   "name": "python3"
  },
  "language_info": {
   "codemirror_mode": {
    "name": "ipython",
    "version": 3
   },
   "file_extension": ".py",
   "mimetype": "text/x-python",
   "name": "python",
   "nbconvert_exporter": "python",
   "pygments_lexer": "ipython3",
   "version": "3.10.12"
  }
 },
 "nbformat": 4,
 "nbformat_minor": 2
}
